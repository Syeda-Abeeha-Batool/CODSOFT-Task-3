{
 "cells": [
  {
   "cell_type": "markdown",
   "id": "37e00221",
   "metadata": {},
   "source": [
    "# Task 3 Password Generator"
   ]
  },
  {
   "cell_type": "code",
   "execution_count": 1,
   "id": "c8ede6d2",
   "metadata": {},
   "outputs": [
    {
     "name": "stdout",
     "output_type": "stream",
     "text": [
      "\t\t\t\t\t\tPASSWORD GENERATOR\n",
      "\n",
      "\n",
      "\n",
      "\n",
      "Enter the length of the password : 22\n",
      "The Password generated is :  )T8J\"p2ypmoZS`i(3)e(O#\n",
      "Do you want to generate another password ? (Y/y) or (N/n) y\n",
      "Enter the length of the password : -43\n",
      "Password cannot be generator. Length cannot be 0 or negative.\n",
      "Do you want to generate another password ? (Y/y) or (N/n) n\n",
      "\n",
      "Thank you!!\n"
     ]
    }
   ],
   "source": [
    "import string\n",
    "import random\n",
    "print(\"\\t\\t\\t\\t\\t\\tPASSWORD GENERATOR\\n\")\n",
    "print(\"\\n\\n\")\n",
    "choice = True\n",
    "while(choice):\n",
    "    length = int(input(\"Enter the length of the password : \"))\n",
    "    if length == 0 or length<0:\n",
    "        print(\"Password cannot be generator. Length cannot be 0 or negative.\")\n",
    "    else:\n",
    "        letters = string.ascii_letters\n",
    "        digits = string.digits\n",
    "        punct = string.punctuation\n",
    "        s = letters+digits+punct\n",
    "        string_length = len(s)\n",
    "        password = []\n",
    "        for i in range(length):\n",
    "            n = random.randint(0, string_length - 1)\n",
    "            password.append(s[n])\n",
    "        \n",
    "        password = \"\".join(password)\n",
    "        print(\"The Password generated is : \", password)\n",
    "    ch = input(\"Do you want to generate another password ? (Y/y) or (N/n) \")\n",
    "    if ch==\"Y\" or ch==\"y\":\n",
    "        choice = True\n",
    "    else:\n",
    "        choice = False\n",
    "        \n",
    "print(\"\\nThank you!!\")    "
   ]
  },
  {
   "cell_type": "code",
   "execution_count": null,
   "id": "fc6db1e1",
   "metadata": {},
   "outputs": [],
   "source": []
  }
 ],
 "metadata": {
  "kernelspec": {
   "display_name": "Python 3 (ipykernel)",
   "language": "python",
   "name": "python3"
  },
  "language_info": {
   "codemirror_mode": {
    "name": "ipython",
    "version": 3
   },
   "file_extension": ".py",
   "mimetype": "text/x-python",
   "name": "python",
   "nbconvert_exporter": "python",
   "pygments_lexer": "ipython3",
   "version": "3.10.9"
  }
 },
 "nbformat": 4,
 "nbformat_minor": 5
}
